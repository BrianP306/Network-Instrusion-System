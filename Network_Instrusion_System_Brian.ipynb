{
  "cells": [
    {
      "cell_type": "markdown",
      "id": "24382e70",
      "metadata": {
        "id": "24382e70"
      },
      "source": [
        "# NIDS CSV Analysis Code\n",
        "This notebook performs full data loading, feature engineering, automatic labeling, model training, and evaluation."
      ]
    },
    {
      "cell_type": "code",
      "execution_count": null,
      "id": "ad2fe8e4",
      "metadata": {
        "id": "ad2fe8e4"
      },
      "outputs": [],
      "source": [
        "import pandas as pd\n",
        "import numpy as np\n",
        "import re\n",
        "import matplotlib.pyplot as plt\n",
        "from sklearn.model_selection import train_test_split\n",
        "from sklearn.preprocessing import StandardScaler\n",
        "from sklearn.utils import resample\n",
        "from sklearn.ensemble import RandomForestClassifier\n",
        "from sklearn.metrics import classification_report, roc_auc_score, roc_curve"
      ]
    },
    {
      "cell_type": "code",
      "source": [
        "# 1. Load the CSV data\n",
        "CSV_PATH = 'assessment3.csv'  # adjust path if necessary\n",
        "df = pd.read_csv(CSV_PATH, on_bad_lines='skip')\n",
        "print(f\"Loaded rows and columns: {df.shape}\")\n"
      ],
      "metadata": {
        "colab": {
          "base_uri": "https://localhost:8080/"
        },
        "id": "FKpzolzeNonI",
        "outputId": "35d4848f-1aaf-4aba-941b-e3244ae85cd3"
      },
      "id": "FKpzolzeNonI",
      "execution_count": null,
      "outputs": [
        {
          "output_type": "stream",
          "name": "stdout",
          "text": [
            "Loaded rows and columns: (237229, 7)\n"
          ]
        }
      ]
    },
    {
      "cell_type": "code",
      "source": [
        "# 2. Parse Info into DstPort and Flags\n",
        "def parse_info(info):\n",
        "    m = re.match(r\"(\\d+)\\s*>\\s*(\\d+)\\s*\\[([A-Z,]+)\\]\", str(info))\n",
        "    if not m:\n",
        "        # Return np.nan for DstPort when no match\n",
        "        return pd.Series({'DstPort': np.nan, 'Flags': []})\n",
        "    try:\n",
        "        # Convert to int and handle potential errors\n",
        "        dst_port = int(m.group(2))\n",
        "    except ValueError:\n",
        "        # Return np.nan if conversion to int fails\n",
        "        dst_port = np.nan\n",
        "\n",
        "    return pd.Series({\n",
        "        'DstPort': dst_port,\n",
        "        'Flags': m.group(3).split(',')\n",
        "    })\n",
        "\n",
        "parsed = df['Info'].apply(parse_info)\n",
        "\n",
        "# Assign the parsed columns directly back to df\n",
        "# This avoids potential issues with concat creating non-Series like structures\n",
        "df['DstPort'] = parsed['DstPort']\n",
        "df['Flags'] = parsed['Flags']\n",
        "\n",
        "\n",
        "# Explicitly convert DstPort to a numeric type, coercing errors to NaN\n",
        "# This helps ensure the column is in a consistent, 1-dimensional format\n",
        "df['DstPort'] = pd.to_numeric(df['DstPort'], errors='coerce')\n",
        "\n",
        "print(\"=== Parsed Info Sample ===\")\n",
        "print(df[['Info','DstPort','Flags']].head(10))"
      ],
      "metadata": {
        "colab": {
          "base_uri": "https://localhost:8080/"
        },
        "id": "6L6nX43DNoqn",
        "outputId": "3304edf0-6c3a-4f6d-8831-2a003e011225"
      },
      "id": "6L6nX43DNoqn",
      "execution_count": null,
      "outputs": [
        {
          "output_type": "stream",
          "name": "stdout",
          "text": [
            "=== Parsed Info Sample ===\n",
            "                                             Info  DstPort  Flags\n",
            "0           1994  >  80 [SYN] Seq=0 Win=512 Len=0     80.0  [SYN]\n",
            "1           1995  >  80 [SYN] Seq=0 Win=512 Len=0     80.0  [SYN]\n",
            "2           1996  >  80 [SYN] Seq=0 Win=512 Len=0     80.0  [SYN]\n",
            "3           1997  >  80 [SYN] Seq=0 Win=512 Len=0     80.0  [SYN]\n",
            "4           1998  >  80 [SYN] Seq=0 Win=512 Len=0     80.0  [SYN]\n",
            "5           1999  >  80 [SYN] Seq=0 Win=512 Len=0     80.0  [SYN]\n",
            "6           2000  >  80 [SYN] Seq=0 Win=512 Len=0     80.0  [SYN]\n",
            "7           2001  >  80 [SYN] Seq=0 Win=512 Len=0     80.0  [SYN]\n",
            "8  80  >  2001 [RST, ACK] Seq=1 Ack=1 Win=0 Len=0      NaN     []\n",
            "9           2002  >  80 [SYN] Seq=0 Win=512 Len=0     80.0  [SYN]\n"
          ]
        }
      ]
    },
    {
      "cell_type": "code",
      "source": [
        "# 3. Create a per-second window\n",
        "df['Window'] = df['Time'].astype(int)\n"
      ],
      "metadata": {
        "id": "jmSdUeKoNox1"
      },
      "id": "jmSdUeKoNox1",
      "execution_count": null,
      "outputs": []
    },
    {
      "cell_type": "code",
      "source": [
        "# 4. Aggregate flow features\n",
        "group_cols = ['Source', 'Destination', 'DstPort', 'Window']\n",
        "# Ensure DstPort column is clean before grouping\n",
        "features = df.dropna(subset=['DstPort']).groupby(group_cols).agg(\n",
        "    PktCount=('No.', 'count'),\n",
        "    AvgLen=('Length', 'mean'),\n",
        "    SynCount=('Flags', lambda flags: sum('SYN' in f for f in flags))\n",
        ").reset_index()"
      ],
      "metadata": {
        "id": "rL96ocKINo52"
      },
      "id": "rL96ocKINo52",
      "execution_count": null,
      "outputs": []
    },
    {
      "cell_type": "code",
      "source": [
        "# 5. Automatic labeling using 95th percentile of SynCount\n",
        "threshold = features['SynCount'].quantile(0.95)\n",
        "features['label'] = (features['SynCount'] > threshold).astype(int)\n",
        "print(f\"Threshold (95th percentile): {threshold}\")\n",
        "print(\"Label distribution:\\n\", features['label'].value_counts())\n",
        "plt.hist(features[\"SynCount\"], bins=20)\n",
        "plt.title(\"Distribution of SynCount per Flow\")\n",
        "\n"
      ],
      "metadata": {
        "colab": {
          "base_uri": "https://localhost:8080/",
          "height": 573
        },
        "id": "1Wg5eF7_No9f",
        "outputId": "8d8cf240-eb7d-47d0-90c5-f2785b602292"
      },
      "id": "1Wg5eF7_No9f",
      "execution_count": null,
      "outputs": [
        {
          "output_type": "stream",
          "name": "stdout",
          "text": [
            "Threshold (95th percentile): 1.0\n",
            "Label distribution:\n",
            " label\n",
            "0    217430\n",
            "1        38\n",
            "Name: count, dtype: int64\n"
          ]
        },
        {
          "output_type": "execute_result",
          "data": {
            "text/plain": [
              "Text(0.5, 1.0, 'Distribution of SynCount per Flow')"
            ]
          },
          "metadata": {},
          "execution_count": 18
        },
        {
          "output_type": "display_data",
          "data": {
            "text/plain": [
              "<Figure size 640x480 with 1 Axes>"
            ],
            "image/png": "[encoded data removed]"
          },
          "metadata": {}
        }
      ]
    },
    {
      "cell_type": "code",
      "source": [
        "# 6. Balance classes by undersampling\n",
        "df_attack = features[features['label'] == 1]\n",
        "df_normal = features[features['label'] == 0]\n",
        "df_normal_down = resample(df_normal, replace=False, n_samples=len(df_attack), random_state=42)\n",
        "df_balanced = pd.concat([df_attack, df_normal_down])\n",
        "\n",
        "X = df_balanced[['PktCount', 'AvgLen', 'SynCount']]\n",
        "y = df_balanced['label']\n"
      ],
      "metadata": {
        "id": "RzfkfbXcNpDd"
      },
      "id": "RzfkfbXcNpDd",
      "execution_count": null,
      "outputs": []
    },
    {
      "cell_type": "code",
      "source": [
        "# 7. Split and scale\n",
        "X_train, X_test, y_train, y_test = train_test_split(\n",
        "    X, y, test_size=0.3, random_state=42, stratify=y\n",
        ")\n",
        "scaler = StandardScaler()\n",
        "X_train_s = scaler.fit_transform(X_train)\n",
        "X_test_s = scaler.transform(X_test)\n",
        "\n",
        "print(f\"Training labels distribution: {np.unique(y_train, return_counts=True)}\")\n",
        "print(f\"Testing labels distribution:  {np.unique(y_test, return_counts=True)}\")\n"
      ],
      "metadata": {
        "colab": {
          "base_uri": "https://localhost:8080/"
        },
        "id": "i0k9UVXxNpF9",
        "outputId": "acdad290-c84c-47c1-911c-46d4d4a45c77"
      },
      "id": "i0k9UVXxNpF9",
      "execution_count": null,
      "outputs": [
        {
          "output_type": "stream",
          "name": "stdout",
          "text": [
            "Training labels distribution: (array([0, 1]), array([26, 27]))\n",
            "Testing labels distribution:  (array([0, 1]), array([12, 11]))\n"
          ]
        }
      ]
    },
    {
      "cell_type": "code",
      "source": [
        "\n",
        "# 8. Train Random Forest\n",
        "model = RandomForestClassifier(n_estimators=100, random_state=42)\n",
        "model.fit(X_train_s, y_train)\n",
        "y_pred = model.predict(X_test_s)\n",
        "y_proba = model.predict_proba(X_test_s)[:,1]\n",
        "\n"
      ],
      "metadata": {
        "id": "5erqSQGNNpKr"
      },
      "id": "5erqSQGNNpKr",
      "execution_count": null,
      "outputs": []
    },
    {
      "cell_type": "code",
      "source": [
        "# 9. Evaluation\n",
        "print(\"\\nClassification Report:\")\n",
        "print(classification_report(y_test, y_pred))\n",
        "roc_auc = roc_auc_score(y_test, y_proba)\n",
        "print(f\"ROC AUC Score: {roc_auc:.4f}\")"
      ],
      "metadata": {
        "colab": {
          "base_uri": "https://localhost:8080/"
        },
        "id": "KQF4nm7eNpTX",
        "outputId": "ee3e24e6-4459-4832-c96d-265e489c441b"
      },
      "id": "KQF4nm7eNpTX",
      "execution_count": null,
      "outputs": [
        {
          "output_type": "stream",
          "name": "stdout",
          "text": [
            "\n",
            "Classification Report:\n",
            "              precision    recall  f1-score   support\n",
            "\n",
            "           0       1.00      1.00      1.00        12\n",
            "           1       1.00      1.00      1.00        11\n",
            "\n",
            "    accuracy                           1.00        23\n",
            "   macro avg       1.00      1.00      1.00        23\n",
            "weighted avg       1.00      1.00      1.00        23\n",
            "\n",
            "ROC AUC Score: 1.0000\n"
          ]
        }
      ]
    },
    {
      "cell_type": "code",
      "source": [
        "# 10. Plot ROC Curve\n",
        "fpr, tpr, _ = roc_curve(y_test, y_proba)\n",
        "plt.figure(figsize=(6,4))\n",
        "plt.plot(fpr, tpr, label=f'AUC = {roc_auc:.2f}')\n",
        "plt.plot([0,1], [0,1], '--')\n",
        "plt.xlabel(\"False Positive Rate\")\n",
        "plt.ylabel(\"True Positive Rate\")\n",
        "plt.title(\"ROC Curve\")\n",
        "plt.legend(loc=\"lower right\")\n",
        "plt.show()"
      ],
      "metadata": {
        "colab": {
          "base_uri": "https://localhost:8080/",
          "height": 410
        },
        "id": "bBzAixxyNpaO",
        "outputId": "264b3c46-01c7-4ea1-a22a-8897bd93671f"
      },
      "id": "bBzAixxyNpaO",
      "execution_count": null,
      "outputs": [
        {
          "output_type": "display_data",
          "data": {
            "text/plain": [
              "<Figure size 600x400 with 1 Axes>"
            ],
            "image/png": "[encoded data removed]"
          },
          "metadata": {}
        }
      ]
    },
    {
      "cell_type": "code",
      "source": [],
      "metadata": {
        "id": "eayJkMsyNphR"
      },
      "id": "eayJkMsyNphR",
      "execution_count": null,
      "outputs": []
    },
    {
      "cell_type": "code",
      "source": [],
      "metadata": {
        "id": "c7sABTu1NpjF"
      },
      "id": "c7sABTu1NpjF",
      "execution_count": null,
      "outputs": []
    },
    {
      "cell_type": "code",
      "source": [],
      "metadata": {
        "id": "WNkmm8KLNppd"
      },
      "id": "WNkmm8KLNppd",
      "execution_count": null,
      "outputs": []
    },
    {
      "cell_type": "code",
      "source": [],
      "metadata": {
        "id": "L0LA4HmNNpuf"
      },
      "id": "L0LA4HmNNpuf",
      "execution_count": null,
      "outputs": []
    },
    {
      "cell_type": "code",
      "source": [],
      "metadata": {
        "id": "i_kou2i6Npv5"
      },
      "id": "i_kou2i6Npv5",
      "execution_count": null,
      "outputs": []
    },
    {
      "cell_type": "code",
      "source": [],
      "metadata": {
        "id": "NhB2A737Npw7"
      },
      "id": "NhB2A737Npw7",
      "execution_count": null,
      "outputs": []
    },
    {
      "cell_type": "code",
      "source": [],
      "metadata": {
        "id": "lKborOBXNpzY"
      },
      "id": "lKborOBXNpzY",
      "execution_count": null,
      "outputs": []
    }
  ],
  "metadata": {
    "colab": {
      "provenance": []
    },
    "language_info": {
      "name": "python"
    },
    "kernelspec": {
      "name": "python3",
      "display_name": "Python 3"
    }
  },
  "nbformat": 4,
  "nbformat_minor": 5
}